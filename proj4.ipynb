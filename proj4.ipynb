{
 "cells": [
  {
   "cell_type": "markdown",
   "id": "879e6563",
   "metadata": {},
   "source": [
    "```\n",
    "BEGIN ASSIGNMENT\n",
    "requirements: ../../requirements.txt\n",
    "overwrite_requirements: true\n",
    "solutions_pdf: true\n",
    "generate:\n",
    "    show_stdout: true\n",
    "    seed: 42\n",
    "files:\n",
    "    - earnings.csv\n",
    "    - regression.png\n",
    "plugins:\n",
    "    - otter.plugins.builtin.GoogleSheetsGradeOverride:\n",
    "        credentials_json_path: ../../sheets-api-credentials.json\n",
    "        sheet_url: https://docs.google.com/spreadsheets/d/1WhPrOz4x18CABYVTHgbThSZgjSL07fwZx4_mOJWs4Ic/edit\n",
    "```"
   ]
  },
  {
   "cell_type": "markdown",
   "id": "73f76f71",
   "metadata": {},
   "source": [
    "<table style=\"width: 100%;\" id=\"nb-header\">\n",
    "    <tr style=\"background-color: transparent;\"><td>\n",
    "        <img src=\"https://data-88e.github.io/assets/images/blue_text.png\" width=\"250px\" style=\"margin-left: 0;\" />\n",
    "    </td><td>\n",
    "        <p style=\"text-align: right; font-size: 10pt;\"><strong>Economic Models</strong>, Fall 2022<br>\n",
    "            Dr. Eric Van Dusen <br>\n",
    "        Notebook by Vaidehi Bulusu <br>\n",
    "</table>"
   ]
  },
  {
   "cell_type": "markdown",
   "id": "9fb308f7",
   "metadata": {},
   "source": [
    "# Project 4: Econometrics\n",
    "\n",
    "In the textbook and this week's lecture, we gave you a theoretical introduction to econometrics. In this project, you'll get the chance to apply what you've learned and see how econometrics is actually used by economists!\n",
    "\n",
    "This project is based on an influential study on the relationship between a person's height and labor market outcomes, and is divided into 3 sections:\n",
    "\n",
    "1. Simple Linear Regression\n",
    "\n",
    "2. Multiple Linear Regression\n",
    "\n",
    "3. Reading Econometrics Tables\n",
    "\n",
    "You can refer to the [*Econometrics*](https://data-88e.github.io/textbook/content/11-econometrics/index.html) chapter in the textbook and week 12 resources for help on this project."
   ]
  },
  {
   "cell_type": "code",
   "execution_count": 1,
   "id": "69f4e0d6",
   "metadata": {},
   "outputs": [],
   "source": [
    "from datascience import *\n",
    "import numpy as np\n",
    "import pandas as pd\n",
    "import matplotlib.pyplot as plt\n",
    "import statsmodels.api as sm\n",
    "import warnings\n",
    "warnings.simplefilter(action='ignore')\n",
    "plt.style.use('seaborn-muted')\n",
    "%matplotlib inline\n",
    "plt.rcParams[\"figure.figsize\"] = [10,7]"
   ]
  },
  {
   "cell_type": "markdown",
   "id": "33283632",
   "metadata": {},
   "source": [
    " ## Part 1: Simple Linear Regression\n",
    "\n",
    "Several studies have identified a positive correlation between a person's height and labor market outcomes: on average, taller people have jobs that are of a higher status and pay more. In their paper, *[Stature and Status:\n",
    "Height, Ability, and Labor Market Outcomes](https://www.nber.org/system/files/working_papers/w12466/w12466.pdf)* (2008), economists Anne Case and Christina Paxson analyze the data from the US National Health Interview Survey in 1994 to explain this association. This is the data we will be using for our analysis.\n",
    "\n",
    "In the first part of the project, we will use simple (bivariate) linear regression to look at the association between a person's height and earnings, and consider the problems with limiting our regression model to just 1 regressor.\n",
    "\n",
    "We start by importing the `earnings.csv` dataset which contains information about the characteristics and labor market outcomes for 17,870 workers."
   ]
  },
  {
   "cell_type": "code",
   "execution_count": 2,
   "id": "34312b5e",
   "metadata": {},
   "outputs": [
    {
     "data": {
      "text/html": [
       "<table border=\"1\" class=\"dataframe\">\n",
       "    <thead>\n",
       "        <tr>\n",
       "            <th>sex</th> <th>age</th> <th>mrd</th> <th>educ</th> <th>cworker</th> <th>region</th> <th>race</th> <th>earnings</th> <th>height</th> <th>weight</th> <th>occupation</th>\n",
       "        </tr>\n",
       "    </thead>\n",
       "    <tbody>\n",
       "        <tr>\n",
       "            <td>0   </td> <td>48  </td> <td>1   </td> <td>13  </td> <td>1      </td> <td>3     </td> <td>1   </td> <td>84054.8 </td> <td>65    </td> <td>133   </td> <td>1         </td>\n",
       "        </tr>\n",
       "        <tr>\n",
       "            <td>0   </td> <td>41  </td> <td>6   </td> <td>12  </td> <td>1      </td> <td>2     </td> <td>1   </td> <td>14021.4 </td> <td>65    </td> <td>155   </td> <td>1         </td>\n",
       "        </tr>\n",
       "        <tr>\n",
       "            <td>0   </td> <td>26  </td> <td>1   </td> <td>16  </td> <td>1      </td> <td>1     </td> <td>1   </td> <td>84054.8 </td> <td>60    </td> <td>108   </td> <td>1         </td>\n",
       "        </tr>\n",
       "        <tr>\n",
       "            <td>0   </td> <td>37  </td> <td>1   </td> <td>16  </td> <td>1      </td> <td>2     </td> <td>1   </td> <td>84054.8 </td> <td>67    </td> <td>150   </td> <td>1         </td>\n",
       "        </tr>\n",
       "        <tr>\n",
       "            <td>0   </td> <td>35  </td> <td>6   </td> <td>16  </td> <td>1      </td> <td>1     </td> <td>1   </td> <td>28560.4 </td> <td>68    </td> <td>180   </td> <td>1         </td>\n",
       "        </tr>\n",
       "    </tbody>\n",
       "</table>\n",
       "<p>... (17865 rows omitted)</p>"
      ],
      "text/plain": [
       "<IPython.core.display.HTML object>"
      ]
     },
     "metadata": {},
     "output_type": "display_data"
    }
   ],
   "source": [
    "earnings = Table().read_table(\"earnings.csv\")\n",
    "earnings.show(5)"
   ]
  },
  {
   "cell_type": "markdown",
   "id": "e6fc6cb2",
   "metadata": {},
   "source": [
    "<div class=\"alert alert-warning\">\n",
    "    \n",
    "Before proceeding, please read the <a href=\"https://wps.pearsoned.com/wps/media/objects/11422/11696965/data3eu/Earnings_and_Height_Description.pdf\" target=\"_blank\">data description</a> for this study which gives you information about each variable. **This is very important.**\n",
    "    \n",
    "</div>"
   ]
  },
  {
   "cell_type": "markdown",
   "id": "2af9c8ec",
   "metadata": {},
   "source": [
    "**Question 1.1:** What do you expect the sign of the relationship between height and earnings to be? Explain your answer.\n",
    "\n",
    "```\n",
    "BEGIN QUESTION\n",
    "name: q1_1\n",
    "manual: true\n",
    "```"
   ]
  },
  {
   "cell_type": "markdown",
   "id": "233c5a09",
   "metadata": {},
   "source": [
    "<div class=\"alert alert-danger\">\n",
    "    \n",
    "<strong>SOLUTION:</strong> Can award credit to any reasonable response. For example, there may be a positive association because taller people may be perceived as more intelligent so they earn more.\n",
    "\n",
    "</div>"
   ]
  },
  {
   "cell_type": "markdown",
   "id": "d132d761-0b17-4e7b-a4de-85929ed3560f",
   "metadata": {},
   "source": [
    "Note: We generally take the log of earnings in regression models but we’re not doing that in this project for the sake of simplicity. We’ll be using log earnings as the dependent variable in section 3."
   ]
  },
  {
   "cell_type": "markdown",
   "id": "62ebfb3a",
   "metadata": {},
   "source": [
    "**Question 1.2:** Here's a simple linear regression equation to model the association between height and earnings:\n",
    "\n",
    "$$\\text{Earnings} = \\beta_1 \\times \\text{Height} + \\alpha$$\n",
    "\n",
    "Perform a regression of `earnings` on `height`. Don't forget to add a constant term!\n",
    "\n",
    "```\n",
    "BEGIN QUESTION\n",
    "name: q1_2\n",
    "```"
   ]
  },
  {
   "cell_type": "code",
   "execution_count": 3,
   "id": "0f05e99f",
   "metadata": {},
   "outputs": [
    {
     "data": {
      "text/html": [
       "<table class=\"simpletable\">\n",
       "<caption>OLS Regression Results</caption>\n",
       "<tr>\n",
       "  <th>Dep. Variable:</th>            <td>y</td>        <th>  R-squared:         </th>  <td>   0.011</td>  \n",
       "</tr>\n",
       "<tr>\n",
       "  <th>Model:</th>                   <td>OLS</td>       <th>  Adj. R-squared:    </th>  <td>   0.011</td>  \n",
       "</tr>\n",
       "<tr>\n",
       "  <th>Method:</th>             <td>Least Squares</td>  <th>  F-statistic:       </th>  <td>   196.5</td>  \n",
       "</tr>\n",
       "<tr>\n",
       "  <th>Date:</th>             <td>Sun, 13 Nov 2022</td> <th>  Prob (F-statistic):</th>  <td>2.13e-44</td>  \n",
       "</tr>\n",
       "<tr>\n",
       "  <th>Time:</th>                 <td>22:59:25</td>     <th>  Log-Likelihood:    </th> <td>-2.0755e+05</td>\n",
       "</tr>\n",
       "<tr>\n",
       "  <th>No. Observations:</th>      <td> 17870</td>      <th>  AIC:               </th>  <td>4.151e+05</td> \n",
       "</tr>\n",
       "<tr>\n",
       "  <th>Df Residuals:</th>          <td> 17868</td>      <th>  BIC:               </th>  <td>4.151e+05</td> \n",
       "</tr>\n",
       "<tr>\n",
       "  <th>Df Model:</th>              <td>     1</td>      <th>                     </th>      <td> </td>     \n",
       "</tr>\n",
       "<tr>\n",
       "  <th>Covariance Type:</th>      <td>nonrobust</td>    <th>                     </th>      <td> </td>     \n",
       "</tr>\n",
       "</table>\n",
       "<table class=\"simpletable\">\n",
       "<tr>\n",
       "     <td></td>       <th>coef</th>     <th>std err</th>      <th>t</th>      <th>P>|t|</th>  <th>[0.025</th>    <th>0.975]</th>  \n",
       "</tr>\n",
       "<tr>\n",
       "  <th>const</th>  <td> -512.7336</td> <td> 3386.856</td> <td>   -0.151</td> <td> 0.880</td> <td>-7151.299</td> <td> 6125.832</td>\n",
       "</tr>\n",
       "<tr>\n",
       "  <th>height</th> <td>  707.6716</td> <td>   50.489</td> <td>   14.016</td> <td> 0.000</td> <td>  608.708</td> <td>  806.635</td>\n",
       "</tr>\n",
       "</table>\n",
       "<table class=\"simpletable\">\n",
       "<tr>\n",
       "  <th>Omnibus:</th>       <td>346151.826</td> <th>  Durbin-Watson:     </th> <td>   1.683</td>\n",
       "</tr>\n",
       "<tr>\n",
       "  <th>Prob(Omnibus):</th>   <td> 0.000</td>   <th>  Jarque-Bera (JB):  </th> <td>1827.913</td>\n",
       "</tr>\n",
       "<tr>\n",
       "  <th>Skew:</th>            <td> 0.397</td>   <th>  Prob(JB):          </th> <td>    0.00</td>\n",
       "</tr>\n",
       "<tr>\n",
       "  <th>Kurtosis:</th>        <td> 1.649</td>   <th>  Cond. No.          </th> <td>1.13e+03</td>\n",
       "</tr>\n",
       "</table><br/><br/>Notes:<br/>[1] Standard Errors assume that the covariance matrix of the errors is correctly specified.<br/>[2] The condition number is large, 1.13e+03. This might indicate that there are<br/>strong multicollinearity or other numerical problems."
      ],
      "text/plain": [
       "<class 'statsmodels.iolib.summary.Summary'>\n",
       "\"\"\"\n",
       "                            OLS Regression Results                            \n",
       "==============================================================================\n",
       "Dep. Variable:                      y   R-squared:                       0.011\n",
       "Model:                            OLS   Adj. R-squared:                  0.011\n",
       "Method:                 Least Squares   F-statistic:                     196.5\n",
       "Date:                Sun, 13 Nov 2022   Prob (F-statistic):           2.13e-44\n",
       "Time:                        22:59:25   Log-Likelihood:            -2.0755e+05\n",
       "No. Observations:               17870   AIC:                         4.151e+05\n",
       "Df Residuals:                   17868   BIC:                         4.151e+05\n",
       "Df Model:                           1                                         \n",
       "Covariance Type:            nonrobust                                         \n",
       "==============================================================================\n",
       "                 coef    std err          t      P>|t|      [0.025      0.975]\n",
       "------------------------------------------------------------------------------\n",
       "const       -512.7336   3386.856     -0.151      0.880   -7151.299    6125.832\n",
       "height       707.6716     50.489     14.016      0.000     608.708     806.635\n",
       "==============================================================================\n",
       "Omnibus:                   346151.826   Durbin-Watson:                   1.683\n",
       "Prob(Omnibus):                  0.000   Jarque-Bera (JB):             1827.913\n",
       "Skew:                           0.397   Prob(JB):                         0.00\n",
       "Kurtosis:                       1.649   Cond. No.                     1.13e+03\n",
       "==============================================================================\n",
       "\n",
       "Notes:\n",
       "[1] Standard Errors assume that the covariance matrix of the errors is correctly specified.\n",
       "[2] The condition number is large, 1.13e+03. This might indicate that there are\n",
       "strong multicollinearity or other numerical problems.\n",
       "\"\"\""
      ]
     },
     "execution_count": 3,
     "metadata": {},
     "output_type": "execute_result"
    }
   ],
   "source": [
    "\"\"\" # BEGIN PROMPT\n",
    "y_1_2 = ...\n",
    "x_1_2 = ...\n",
    "model_1_2 = ...\n",
    "results_1_2 = ...\n",
    "\"\"\" # END PROMPT\n",
    "# BEGIN SOLUTION NO PROMPT\n",
    "y_1_2 = earnings.column(\"earnings\")\n",
    "x_1_2 = earnings.select(\"height\").to_df()\n",
    "model_1_2 = sm.OLS(y_1_2, sm.add_constant(x_1_2))\n",
    "results_1_2 = model_1_2.fit()\n",
    "# END SOLUTION\n",
    "results_1_2.summary()"
   ]
  },
  {
   "cell_type": "code",
   "execution_count": 4,
   "id": "1f719e56",
   "metadata": {},
   "outputs": [
    {
     "data": {
      "text/plain": [
       "True"
      ]
     },
     "execution_count": 4,
     "metadata": {},
     "output_type": "execute_result"
    }
   ],
   "source": [
    "## TEST ##\n",
    "len(results_1_2.params) == 2"
   ]
  },
  {
   "cell_type": "code",
   "execution_count": 5,
   "id": "4e8862b0",
   "metadata": {},
   "outputs": [
    {
     "data": {
      "text/plain": [
       "True"
      ]
     },
     "execution_count": 5,
     "metadata": {},
     "output_type": "execute_result"
    }
   ],
   "source": [
    "## TEST ##\n",
    "np.count_nonzero(y_1_2) == 17870"
   ]
  },
  {
   "cell_type": "code",
   "execution_count": 6,
   "id": "64f1219f",
   "metadata": {},
   "outputs": [
    {
     "data": {
      "text/plain": [
       "True"
      ]
     },
     "execution_count": 6,
     "metadata": {},
     "output_type": "execute_result"
    }
   ],
   "source": [
    "## TEST ##\n",
    "100 < np.sum(results_1_2.params) < 200"
   ]
  },
  {
   "cell_type": "code",
   "execution_count": 7,
   "id": "418f205c",
   "metadata": {
    "scrolled": true
   },
   "outputs": [
    {
     "data": {
      "text/plain": [
       "True"
      ]
     },
     "execution_count": 7,
     "metadata": {},
     "output_type": "execute_result"
    }
   ],
   "source": [
    "## HIDDEN TEST ##\n",
    "707.672 in set(np.round(results_1_2.params, 3))"
   ]
  },
  {
   "cell_type": "markdown",
   "id": "a970f5d2",
   "metadata": {},
   "source": [
    "**Question 1.3:**\n",
    "Why should we include a constant term in this regression model?\n",
    "\n",
    "<ol type=\"A\" style=\"list-style-type: lower-alpha;\">\n",
    "    <li>Because we expect the slope of the line of best fit may be zero.  </li>\n",
    "    <li>Because we expect the slope of the line of best fit may be non-zero.  </li>\n",
    "    <li>Because we expect the x-intercept of the line of best fit may be non-zero.  </li>\n",
    "    <li>Because we expect the y-intercept of the line of best fit may be non-zero.  </li>\n",
    "</ol>\n",
    "\n",
    "Assign a letter corresponding to your answer to `q1_3` below. For example, `q1_3 = 'a'`.\n",
    "\n",
    "```\n",
    "BEGIN QUESTION\n",
    "name: q1_3\n",
    "points: \n",
    "    - 0\n",
    "    - 1\n",
    "```"
   ]
  },
  {
   "cell_type": "code",
   "execution_count": 8,
   "id": "3bebe910",
   "metadata": {},
   "outputs": [],
   "source": [
    "q1_3 = 'd' # SOLUTION"
   ]
  },
  {
   "cell_type": "code",
   "execution_count": 9,
   "id": "a5358833",
   "metadata": {},
   "outputs": [
    {
     "data": {
      "text/plain": [
       "True"
      ]
     },
     "execution_count": 9,
     "metadata": {},
     "output_type": "execute_result"
    }
   ],
   "source": [
    "## TEST ##\n",
    "q1_3 in ['a', 'b', 'c', 'd']"
   ]
  },
  {
   "cell_type": "code",
   "execution_count": 10,
   "id": "2d5a65bc",
   "metadata": {},
   "outputs": [
    {
     "data": {
      "text/plain": [
       "True"
      ]
     },
     "execution_count": 10,
     "metadata": {},
     "output_type": "execute_result"
    }
   ],
   "source": [
    "## HIDDEN TEST ##\n",
    "q1_3 == 'd'"
   ]
  },
  {
   "cell_type": "markdown",
   "id": "e02e71f5",
   "metadata": {},
   "source": [
    "**Question 1.4:** What is the estimated association between `earnings` and `height`?\n",
    "\n",
    "```\n",
    "BEGIN QUESTION\n",
    "name: q1_4\n",
    "```"
   ]
  },
  {
   "cell_type": "code",
   "execution_count": 11,
   "id": "5ac7ef9f",
   "metadata": {},
   "outputs": [
    {
     "data": {
      "text/plain": [
       "707.67155842741204"
      ]
     },
     "execution_count": 11,
     "metadata": {},
     "output_type": "execute_result"
    }
   ],
   "source": [
    "\"\"\" # BEGIN PROMPT\n",
    "result_1_4 = ...\n",
    "\"\"\" # END PROMPT\n",
    "# BEGIN SOLUTION NO PROMPT\n",
    "result_1_4 = results_1_2.params['height']\n",
    "# END SOLUTION\n",
    "result_1_4"
   ]
  },
  {
   "cell_type": "code",
   "execution_count": 12,
   "id": "571a5f62",
   "metadata": {},
   "outputs": [
    {
     "data": {
      "text/plain": [
       "False"
      ]
     },
     "execution_count": 12,
     "metadata": {},
     "output_type": "execute_result"
    }
   ],
   "source": [
    "## TEST ##\n",
    "type(result_1_4) == float"
   ]
  },
  {
   "cell_type": "code",
   "execution_count": 13,
   "id": "69e74368",
   "metadata": {},
   "outputs": [
    {
     "data": {
      "text/plain": [
       "True"
      ]
     },
     "execution_count": 13,
     "metadata": {},
     "output_type": "execute_result"
    }
   ],
   "source": [
    "## HIDDEN TEST ##\n",
    "np.isclose(result_1_4, 707.67155842744069)"
   ]
  },
  {
   "cell_type": "markdown",
   "id": "80f7a776",
   "metadata": {},
   "source": [
    "**Question 1.5:** Is the association statistically significant? Answer `True` or `False`.\n",
    "\n",
    "```\n",
    "BEGIN QUESTION\n",
    "name: q1_5\n",
    "```"
   ]
  },
  {
   "cell_type": "code",
   "execution_count": 14,
   "id": "168bad50",
   "metadata": {},
   "outputs": [
    {
     "data": {
      "text/plain": [
       "True"
      ]
     },
     "execution_count": 14,
     "metadata": {},
     "output_type": "execute_result"
    }
   ],
   "source": [
    "\"\"\" # BEGIN PROMPT\n",
    "result_1_5 = ...\n",
    "\"\"\" # END PROMPT\n",
    "# BEGIN SOLUTION NO PROMPT\n",
    "result_1_5 = True\n",
    "# END SOLUTION\n",
    "result_1_5"
   ]
  },
  {
   "cell_type": "code",
   "execution_count": 15,
   "id": "89ec5312",
   "metadata": {},
   "outputs": [
    {
     "data": {
      "text/plain": [
       "True"
      ]
     },
     "execution_count": 15,
     "metadata": {},
     "output_type": "execute_result"
    }
   ],
   "source": [
    "## TEST ##\n",
    "type(result_1_5) == bool"
   ]
  },
  {
   "cell_type": "code",
   "execution_count": 16,
   "id": "69225bd1",
   "metadata": {},
   "outputs": [
    {
     "data": {
      "text/plain": [
       "True"
      ]
     },
     "execution_count": 16,
     "metadata": {},
     "output_type": "execute_result"
    }
   ],
   "source": [
    "## HIDDEN TEST ##\n",
    "result_1_5"
   ]
  },
  {
   "cell_type": "markdown",
   "id": "84ce7089",
   "metadata": {},
   "source": [
    "**Question 1.6:** Interpret the slope on the `height` variable (including the units). \n",
    "\n",
    "<ol type=\"A\" style=\"list-style-type: lower-alpha;\">\n",
    "    <li>A 1 inch increase in height corresponds to around \\$707.7 increase in earnings  </li>\n",
    "    <li>A 1 inch increase in height corresponds to around \\$707.7 dncrease in earnings  </li>\n",
    "    <li>A 1% increase in height corresponds to around \\$707.7 increase in earnings  </li>\n",
    "    <li>A 1% increase in height corresponds to around \\$707.7 decrease in earnings  </li>\n",
    "</ol>\n",
    "\n",
    "Assign a letter corresponding to your answer to `q1_6` below. For example, `q1_6 = 'a'`.\n",
    "\n",
    "```\n",
    "BEGIN QUESTION\n",
    "name: q1_6\n",
    "points: \n",
    "    - 0\n",
    "    - 1\n",
    "```"
   ]
  },
  {
   "cell_type": "code",
   "execution_count": 17,
   "id": "3f19d881",
   "metadata": {},
   "outputs": [],
   "source": [
    "q1_6 = 'a' # SOLUTION"
   ]
  },
  {
   "cell_type": "code",
   "execution_count": 18,
   "id": "330f0021",
   "metadata": {},
   "outputs": [
    {
     "data": {
      "text/plain": [
       "True"
      ]
     },
     "execution_count": 18,
     "metadata": {},
     "output_type": "execute_result"
    }
   ],
   "source": [
    "## TEST ##\n",
    "q1_6 in ['a', 'b', 'c', 'd']"
   ]
  },
  {
   "cell_type": "code",
   "execution_count": 19,
   "id": "20bce0d6",
   "metadata": {},
   "outputs": [
    {
     "data": {
      "text/plain": [
       "True"
      ]
     },
     "execution_count": 19,
     "metadata": {},
     "output_type": "execute_result"
    }
   ],
   "source": [
    "## HIDDEN TEST ##\n",
    "q1_6 == 'a'"
   ]
  },
  {
   "cell_type": "markdown",
   "id": "3b867aaf",
   "metadata": {},
   "source": [
    "**Question 1.7:** Interpret the intercept of the regression (including the units). Does this make practical sense? \n",
    "\n",
    "<ol type=\"A\" style=\"list-style-type: lower-alpha;\">\n",
    "    <li>When height is 0, earnings are estimated to be around -\\$512.7.  </li>\n",
    "    <li>When height is 0, earnings are estimated to be around \\$512.7.  </li>\n",
    "    <li>When earnings are 0, height are estimated to be around -512.7 inches.  </li>\n",
    "    <li>When earnings are 0, height are estimated to be around 512.7 inches.  </li>\n",
    "</ol>\n",
    "\n",
    "Assign a letter corresponding to your answer to `q1_7` below. For example, `q1_7 = 'a'`.\n",
    "\n",
    "```\n",
    "BEGIN QUESTION\n",
    "name: q1_7\n",
    "points: \n",
    "    - 0\n",
    "    - 1\n",
    "```"
   ]
  },
  {
   "cell_type": "code",
   "execution_count": 20,
   "id": "e4b3a099",
   "metadata": {},
   "outputs": [],
   "source": [
    "q1_7 = 'a' # SOLUTION"
   ]
  },
  {
   "cell_type": "code",
   "execution_count": 21,
   "id": "7a0cf285",
   "metadata": {},
   "outputs": [
    {
     "data": {
      "text/plain": [
       "True"
      ]
     },
     "execution_count": 21,
     "metadata": {},
     "output_type": "execute_result"
    }
   ],
   "source": [
    "## TEST ##\n",
    "q1_7 in ['a', 'b', 'c', 'd']"
   ]
  },
  {
   "cell_type": "code",
   "execution_count": 22,
   "id": "26fac934",
   "metadata": {},
   "outputs": [
    {
     "data": {
      "text/plain": [
       "True"
      ]
     },
     "execution_count": 22,
     "metadata": {},
     "output_type": "execute_result"
    }
   ],
   "source": [
    "## HIDDEN TEST ##\n",
    "q1_7 == 'a'"
   ]
  },
  {
   "cell_type": "markdown",
   "id": "5097bcea",
   "metadata": {},
   "source": [
    "**Question 1.8:** If the slope on the independent variable is statistically significant, can we infer a causal relationship between the two variables? Why or why not? When can you infer a causal relationship between 2 variables based on the results of the study?\n",
    "\n",
    "*Hint: Think about the type of study we're looking at.*\n",
    "\n",
    "```\n",
    "BEGIN QUESTION\n",
    "name: q1_8\n",
    "manual: true\n",
    "```"
   ]
  },
  {
   "cell_type": "markdown",
   "id": "e63335b0",
   "metadata": {},
   "source": [
    "<div class=\"alert alert-danger\">\n",
    "    \n",
    "<strong>SOLUTION:</strong> No, a statistically significant regression slope is not enough to infer a causal relationship between the independent and dependent variables. This is because of the presence of omitted variables (an example in this case is the number of years of education). You can infer a causal relationship only from randomized controlled trials.\n",
    "\n",
    "</div>"
   ]
  },
  {
   "cell_type": "markdown",
   "id": "c776f49e",
   "metadata": {},
   "source": [
    "**Question 1.9:** Use the slope and intercept from the regression in question 1.2 to generate predictions for `earnings`.\n",
    "\n",
    "```\n",
    "BEGIN QUESTION\n",
    "name: q1_9\n",
    "points: \n",
    "    - 0\n",
    "    - 0.5\n",
    "    - 0.5\n",
    "```"
   ]
  },
  {
   "cell_type": "code",
   "execution_count": 23,
   "id": "cab5c368",
   "metadata": {},
   "outputs": [
    {
     "data": {
      "text/plain": [
       "array([ 45485.91770787,  45485.91770787,  41947.55991573, ...,\n",
       "        45485.91770787,  47608.93238315,  47608.93238315])"
      ]
     },
     "execution_count": 23,
     "metadata": {},
     "output_type": "execute_result"
    }
   ],
   "source": [
    "\"\"\" # BEGIN PROMPT\n",
    "predictions_1_9 = ...\n",
    "\"\"\" # END PROMPT\n",
    "# BEGIN SOLUTION NO PROMPT\n",
    "predictions_1_9 = (earnings.column(\"height\") * results_1_2.params[1]) + results_1_2.params[0]\n",
    "# END SOLUTION\n",
    "predictions_1_9"
   ]
  },
  {
   "cell_type": "code",
   "execution_count": 24,
   "id": "d421f6f2",
   "metadata": {
    "scrolled": true
   },
   "outputs": [
    {
     "data": {
      "text/plain": [
       "True"
      ]
     },
     "execution_count": 24,
     "metadata": {},
     "output_type": "execute_result"
    }
   ],
   "source": [
    "## TEST ##\n",
    "len(predictions_1_9) == 17870"
   ]
  },
  {
   "cell_type": "code",
   "execution_count": 25,
   "id": "57bc8b77",
   "metadata": {},
   "outputs": [
    {
     "data": {
      "text/plain": [
       "True"
      ]
     },
     "execution_count": 25,
     "metadata": {},
     "output_type": "execute_result"
    }
   ],
   "source": [
    "## HIDDEN TEST ##\n",
    "np.isclose(np.mean(predictions_1_9), 46875.322107839529)"
   ]
  },
  {
   "cell_type": "code",
   "execution_count": 26,
   "id": "2fb91f73",
   "metadata": {},
   "outputs": [
    {
     "data": {
      "text/plain": [
       "True"
      ]
     },
     "execution_count": 26,
     "metadata": {},
     "output_type": "execute_result"
    }
   ],
   "source": [
    "## HIDDEN TEST ##\n",
    "np.isclose(predictions_1_9[0], 45485.918)"
   ]
  },
  {
   "cell_type": "markdown",
   "id": "a539e596",
   "metadata": {},
   "source": [
    "**Question 1.10:** Calculate the RMSE for your regression predictions from question 1.9.\n",
    "\n",
    "```\n",
    "BEGIN QUESTION\n",
    "name: q1_10\n",
    "```"
   ]
  },
  {
   "cell_type": "code",
   "execution_count": 27,
   "id": "ec40f98e",
   "metadata": {},
   "outputs": [
    {
     "data": {
      "text/plain": [
       "26775.741156313969"
      ]
     },
     "execution_count": 27,
     "metadata": {},
     "output_type": "execute_result"
    }
   ],
   "source": [
    "\"\"\" # BEGIN PROMPT\n",
    "rmse_1_10 = ...\n",
    "\"\"\" # END PROMPT\n",
    "# BEGIN SOLUTION NO PROMPT\n",
    "rmse_1_10 = (np.mean((earnings.column(\"earnings\") - predictions_1_9)**2))**0.5\n",
    "# END SOLUTION\n",
    "rmse_1_10"
   ]
  },
  {
   "cell_type": "code",
   "execution_count": 28,
   "id": "17de75d2",
   "metadata": {
    "scrolled": true
   },
   "outputs": [
    {
     "data": {
      "text/plain": [
       "True"
      ]
     },
     "execution_count": 28,
     "metadata": {},
     "output_type": "execute_result"
    }
   ],
   "source": [
    "## TEST ##\n",
    "10000 < rmse_1_10 < 50000"
   ]
  },
  {
   "cell_type": "code",
   "execution_count": 29,
   "id": "5604b37e",
   "metadata": {},
   "outputs": [
    {
     "data": {
      "text/plain": [
       "True"
      ]
     },
     "execution_count": 29,
     "metadata": {},
     "output_type": "execute_result"
    }
   ],
   "source": [
    "## HIDDEN TEST ##\n",
    "np.isclose(rmse_1_10, 26775.741)"
   ]
  },
  {
   "cell_type": "markdown",
   "id": "62c47856",
   "metadata": {},
   "source": [
    "**Question 1.11:** Which one of the following is true about the RMSE? \n",
    "\n",
    "<ol type=\"A\" style=\"list-style-type: lower-alpha;\">\n",
    "    <li>RMSE is the total sum of square error in the regression.   </li>\n",
    "    <li>RMSE means that on average the predicted earnings are off by $26,775.7.  </li>\n",
    "    <li>It is possible for the RMSE to increase if we add unrelated variables to the regression.  </li>\n",
    "    <li>Higher RMSE means the model more accurately predicts the dependent variable.  </li>\n",
    "</ol>\n",
    "\n",
    "Assign a letter corresponding to your answer to `q1_11` below. For example, `q1_11 = 'a'`.\n",
    "\n",
    "```\n",
    "BEGIN QUESTION\n",
    "name: q1_11\n",
    "points: \n",
    "    - 0\n",
    "    - 1\n",
    "```"
   ]
  },
  {
   "cell_type": "code",
   "execution_count": 30,
   "id": "11be2225",
   "metadata": {},
   "outputs": [],
   "source": [
    "q1_11 = 'b' # SOLUTION"
   ]
  },
  {
   "cell_type": "code",
   "execution_count": 31,
   "id": "f7d5f22f",
   "metadata": {},
   "outputs": [
    {
     "data": {
      "text/plain": [
       "True"
      ]
     },
     "execution_count": 31,
     "metadata": {},
     "output_type": "execute_result"
    }
   ],
   "source": [
    "## TEST ##\n",
    "q1_11 in ['a', 'b', 'c', 'd']"
   ]
  },
  {
   "cell_type": "code",
   "execution_count": 32,
   "id": "0f65ff3c",
   "metadata": {},
   "outputs": [
    {
     "data": {
      "text/plain": [
       "True"
      ]
     },
     "execution_count": 32,
     "metadata": {},
     "output_type": "execute_result"
    }
   ],
   "source": [
    "## HIDDEN TEST ##\n",
    "q1_11 == 'b'"
   ]
  },
  {
   "cell_type": "markdown",
   "id": "18b12918",
   "metadata": {},
   "source": [
    "## Part 2: Multiple Linear Regression\n",
    "\n",
    "Now, let's perform multiple linear regression to account for potential confounding variables in our model. For simplicity, we will be using only the following additional regressors: `age`, `educ`, `sex` and `weight`."
   ]
  },
  {
   "cell_type": "markdown",
   "id": "3c1b0cfb",
   "metadata": {},
   "source": [
    "**Question 2.1:** Pick 2 variables from the 4 additional variables we will be incorporating in the model (`age`, `educ`, `sex` and `weight`) that you think might be potential confounders in the study. Provide a brief explanation for why you think each of the variables may be a confounder. \n",
    "\n",
    "*Hint: Recall that a confounder is related to both the independent and dependent variables, so in your answer, make sure to talk about how each confounder is related to `height` and `weight`.*\n",
    "\n",
    "```\n",
    "BEGIN QUESTION\n",
    "name: q2_1\n",
    "manual: true\n",
    "```"
   ]
  },
  {
   "cell_type": "markdown",
   "id": "47eb24d9",
   "metadata": {},
   "source": [
    "<div class=\"alert alert-danger\">\n",
    "    \n",
    "<strong>SOLUTION:</strong> Can award credit to any reasonable response (e.g. `educ` may be positively correlated with both `height` and `earnings` so it's a potential confounding variable).\n",
    "\n",
    "</div>"
   ]
  },
  {
   "cell_type": "markdown",
   "id": "792e46b2",
   "metadata": {},
   "source": [
    "**Question 2.2:** Perform another regression with the following new regressors: `age`, `educ`, `sex` and `weight` (also include `height`).\n",
    "\n",
    "```\n",
    "BEGIN QUESTION\n",
    "name: q2_2\n",
    "```"
   ]
  },
  {
   "cell_type": "code",
   "execution_count": 33,
   "id": "0808937b",
   "metadata": {},
   "outputs": [
    {
     "data": {
      "text/html": [
       "<table class=\"simpletable\">\n",
       "<caption>OLS Regression Results</caption>\n",
       "<tr>\n",
       "  <th>Dep. Variable:</th>            <td>y</td>        <th>  R-squared:         </th>  <td>   0.170</td>  \n",
       "</tr>\n",
       "<tr>\n",
       "  <th>Model:</th>                   <td>OLS</td>       <th>  Adj. R-squared:    </th>  <td>   0.169</td>  \n",
       "</tr>\n",
       "<tr>\n",
       "  <th>Method:</th>             <td>Least Squares</td>  <th>  F-statistic:       </th>  <td>   729.7</td>  \n",
       "</tr>\n",
       "<tr>\n",
       "  <th>Date:</th>             <td>Sun, 13 Nov 2022</td> <th>  Prob (F-statistic):</th>   <td>  0.00</td>   \n",
       "</tr>\n",
       "<tr>\n",
       "  <th>Time:</th>                 <td>22:59:26</td>     <th>  Log-Likelihood:    </th> <td>-2.0598e+05</td>\n",
       "</tr>\n",
       "<tr>\n",
       "  <th>No. Observations:</th>      <td> 17870</td>      <th>  AIC:               </th>  <td>4.120e+05</td> \n",
       "</tr>\n",
       "<tr>\n",
       "  <th>Df Residuals:</th>          <td> 17864</td>      <th>  BIC:               </th>  <td>4.120e+05</td> \n",
       "</tr>\n",
       "<tr>\n",
       "  <th>Df Model:</th>              <td>     5</td>      <th>                     </th>      <td> </td>     \n",
       "</tr>\n",
       "<tr>\n",
       "  <th>Covariance Type:</th>      <td>nonrobust</td>    <th>                     </th>      <td> </td>     \n",
       "</tr>\n",
       "</table>\n",
       "<table class=\"simpletable\">\n",
       "<tr>\n",
       "     <td></td>       <th>coef</th>     <th>std err</th>      <th>t</th>      <th>P>|t|</th>  <th>[0.025</th>    <th>0.975]</th>  \n",
       "</tr>\n",
       "<tr>\n",
       "  <th>const</th>  <td>-4.745e+04</td> <td> 4348.852</td> <td>  -10.911</td> <td> 0.000</td> <td> -5.6e+04</td> <td>-3.89e+04</td>\n",
       "</tr>\n",
       "<tr>\n",
       "  <th>height</th> <td>  414.7890</td> <td>   68.097</td> <td>    6.091</td> <td> 0.000</td> <td>  281.312</td> <td>  548.265</td>\n",
       "</tr>\n",
       "<tr>\n",
       "  <th>age</th>    <td>  335.0852</td> <td>   18.420</td> <td>   18.191</td> <td> 0.000</td> <td>  298.980</td> <td>  371.190</td>\n",
       "</tr>\n",
       "<tr>\n",
       "  <th>educ</th>   <td> 3948.2298</td> <td>   70.529</td> <td>   55.980</td> <td> 0.000</td> <td> 3809.986</td> <td> 4086.473</td>\n",
       "</tr>\n",
       "<tr>\n",
       "  <th>sex</th>    <td>  586.9203</td> <td>  520.681</td> <td>    1.127</td> <td> 0.260</td> <td> -433.665</td> <td> 1607.505</td>\n",
       "</tr>\n",
       "<tr>\n",
       "  <th>weight</th> <td>   -5.0913</td> <td>    3.878</td> <td>   -1.313</td> <td> 0.189</td> <td>  -12.692</td> <td>    2.509</td>\n",
       "</tr>\n",
       "</table>\n",
       "<table class=\"simpletable\">\n",
       "<tr>\n",
       "  <th>Omnibus:</th>       <td>3334.172</td> <th>  Durbin-Watson:     </th> <td>   1.908</td> \n",
       "</tr>\n",
       "<tr>\n",
       "  <th>Prob(Omnibus):</th>  <td> 0.000</td>  <th>  Jarque-Bera (JB):  </th> <td>1045.069</td> \n",
       "</tr>\n",
       "<tr>\n",
       "  <th>Skew:</th>           <td> 0.362</td>  <th>  Prob(JB):          </th> <td>1.16e-227</td>\n",
       "</tr>\n",
       "<tr>\n",
       "  <th>Kurtosis:</th>       <td> 2.062</td>  <th>  Cond. No.          </th> <td>4.61e+03</td> \n",
       "</tr>\n",
       "</table><br/><br/>Notes:<br/>[1] Standard Errors assume that the covariance matrix of the errors is correctly specified.<br/>[2] The condition number is large, 4.61e+03. This might indicate that there are<br/>strong multicollinearity or other numerical problems."
      ],
      "text/plain": [
       "<class 'statsmodels.iolib.summary.Summary'>\n",
       "\"\"\"\n",
       "                            OLS Regression Results                            \n",
       "==============================================================================\n",
       "Dep. Variable:                      y   R-squared:                       0.170\n",
       "Model:                            OLS   Adj. R-squared:                  0.169\n",
       "Method:                 Least Squares   F-statistic:                     729.7\n",
       "Date:                Sun, 13 Nov 2022   Prob (F-statistic):               0.00\n",
       "Time:                        22:59:26   Log-Likelihood:            -2.0598e+05\n",
       "No. Observations:               17870   AIC:                         4.120e+05\n",
       "Df Residuals:                   17864   BIC:                         4.120e+05\n",
       "Df Model:                           5                                         \n",
       "Covariance Type:            nonrobust                                         \n",
       "==============================================================================\n",
       "                 coef    std err          t      P>|t|      [0.025      0.975]\n",
       "------------------------------------------------------------------------------\n",
       "const      -4.745e+04   4348.852    -10.911      0.000    -5.6e+04   -3.89e+04\n",
       "height       414.7890     68.097      6.091      0.000     281.312     548.265\n",
       "age          335.0852     18.420     18.191      0.000     298.980     371.190\n",
       "educ        3948.2298     70.529     55.980      0.000    3809.986    4086.473\n",
       "sex          586.9203    520.681      1.127      0.260    -433.665    1607.505\n",
       "weight        -5.0913      3.878     -1.313      0.189     -12.692       2.509\n",
       "==============================================================================\n",
       "Omnibus:                     3334.172   Durbin-Watson:                   1.908\n",
       "Prob(Omnibus):                  0.000   Jarque-Bera (JB):             1045.069\n",
       "Skew:                           0.362   Prob(JB):                    1.16e-227\n",
       "Kurtosis:                       2.062   Cond. No.                     4.61e+03\n",
       "==============================================================================\n",
       "\n",
       "Notes:\n",
       "[1] Standard Errors assume that the covariance matrix of the errors is correctly specified.\n",
       "[2] The condition number is large, 4.61e+03. This might indicate that there are\n",
       "strong multicollinearity or other numerical problems.\n",
       "\"\"\""
      ]
     },
     "execution_count": 33,
     "metadata": {},
     "output_type": "execute_result"
    }
   ],
   "source": [
    "\"\"\" # BEGIN PROMPT\n",
    "y_2_2 = ...\n",
    "x_2_2 = ...\n",
    "model_2_2 = ...\n",
    "results_2_2 = ...\n",
    "\"\"\" # END PROMPT\n",
    "# BEGIN SOLUTION NO PROMPT\n",
    "y_2_2 = earnings.column(\"earnings\")\n",
    "x_2_2 = earnings.select(\"height\", \"age\",\"educ\", \"sex\", \"weight\").to_df()\n",
    "model_2_2 = sm.OLS(y_2_2, sm.add_constant(x_2_2))\n",
    "results_2_2 = model_2_2.fit()\n",
    "# END SOLUTION\n",
    "results_2_2.summary()"
   ]
  },
  {
   "cell_type": "code",
   "execution_count": 34,
   "id": "142dfb91",
   "metadata": {},
   "outputs": [
    {
     "data": {
      "text/plain": [
       "True"
      ]
     },
     "execution_count": 34,
     "metadata": {},
     "output_type": "execute_result"
    }
   ],
   "source": [
    "## TEST ##\n",
    "len(results_2_2.params) == 6"
   ]
  },
  {
   "cell_type": "code",
   "execution_count": 35,
   "id": "66e355fa",
   "metadata": {},
   "outputs": [
    {
     "data": {
      "text/plain": [
       "True"
      ]
     },
     "execution_count": 35,
     "metadata": {},
     "output_type": "execute_result"
    }
   ],
   "source": [
    "## TEST ##\n",
    "4000 < np.sum(results_2_2.params[1:]) < 8000"
   ]
  },
  {
   "cell_type": "code",
   "execution_count": 36,
   "id": "5c08e528",
   "metadata": {},
   "outputs": [
    {
     "data": {
      "text/plain": [
       "True"
      ]
     },
     "execution_count": 36,
     "metadata": {},
     "output_type": "execute_result"
    }
   ],
   "source": [
    "## HIDDEN TEST ##\n",
    "335.0852 in set(np.round(results_2_2.params, 4)) # coef on age"
   ]
  },
  {
   "cell_type": "code",
   "execution_count": 37,
   "id": "b8fb9da0",
   "metadata": {},
   "outputs": [
    {
     "data": {
      "text/plain": [
       "True"
      ]
     },
     "execution_count": 37,
     "metadata": {},
     "output_type": "execute_result"
    }
   ],
   "source": [
    "## HIDDEN TEST ##\n",
    "3948.2298 in set(np.round(results_2_2.params, 4)) # coef on educ"
   ]
  },
  {
   "cell_type": "markdown",
   "id": "9b940867",
   "metadata": {},
   "source": [
    "**Question 2.3:** Compare the coefficient on `height` from the regression model in question 2.2 to the coefficient on `height` from the regression model in question 1.2. What does this tell you about the nature of the omitted variable bias in the previous model (is it positive or negative)?\n",
    "\n",
    "Fill in the blanks: The coefficient in 2.2 is \\_\\_\\_\\_\\_ which means that the omitted variable bias in 1.2 is overall \\_\\_\\_\\_\\_. \n",
    "\n",
    "<ol type=\"A\" style=\"list-style-type: lower-alpha;\">\n",
    "    <li>higher; positive</li>\n",
    "    <li>lower; positive</li>\n",
    "    <li>higher; negative</li>\n",
    "    <li>lower; negative</li>\n",
    "</ol>\n",
    "\n",
    "Assign a letter corresponding to your answer to `q2_3` below. For example, `q2_3 = 'a'`.\n",
    "\n",
    "```\n",
    "BEGIN QUESTION\n",
    "name: q2_3\n",
    "points: \n",
    "    - 0\n",
    "    - 1\n",
    "```"
   ]
  },
  {
   "cell_type": "code",
   "execution_count": 38,
   "id": "aea241ac",
   "metadata": {},
   "outputs": [],
   "source": [
    "q2_3 = 'b' # SOLUTION"
   ]
  },
  {
   "cell_type": "code",
   "execution_count": 39,
   "id": "1014b807",
   "metadata": {},
   "outputs": [
    {
     "data": {
      "text/plain": [
       "True"
      ]
     },
     "execution_count": 39,
     "metadata": {},
     "output_type": "execute_result"
    }
   ],
   "source": [
    "## TEST ##\n",
    "q2_3 in ['a', 'b', 'c', 'd']"
   ]
  },
  {
   "cell_type": "code",
   "execution_count": 40,
   "id": "3cab8ac9",
   "metadata": {},
   "outputs": [
    {
     "data": {
      "text/plain": [
       "True"
      ]
     },
     "execution_count": 40,
     "metadata": {},
     "output_type": "execute_result"
    }
   ],
   "source": [
    "## HIDDEN TEST ##\n",
    "q2_3 == 'b'"
   ]
  },
  {
   "cell_type": "markdown",
   "id": "ab21d99a",
   "metadata": {},
   "source": [
    "**Question 2.4:** Look at the regression coefficients for the additional variables we included in question 2.2. Do the coefficients align with your intuition from 2.1 (in terms how they are related to earnings)?\n",
    "\n",
    "```\n",
    "BEGIN QUESTION\n",
    "name: q2_4\n",
    "manual: true\n",
    "```"
   ]
  },
  {
   "cell_type": "markdown",
   "id": "b229d4d3",
   "metadata": {},
   "source": [
    "<div class=\"alert alert-danger\">\n",
    "    \n",
    "<strong>SOLUTION:</strong> Should talk about the sign of the coefficients of the variables they chose in 2.1.\n",
    "\n",
    "</div>"
   ]
  },
  {
   "cell_type": "markdown",
   "id": "cdf6f98a",
   "metadata": {},
   "source": [
    "**Question 2.5:** Let's consider the effect of education on earnings. According to the result in 2.2, is the level of education correlated with earnings? Does adding this variable help alleviate omitted variable bias? Why or why not? Explain your answers. \n",
    "\n",
    "```\n",
    "BEGIN QUESTION\n",
    "name: q2_5\n",
    "manual: true\n",
    "```"
   ]
  },
  {
   "cell_type": "markdown",
   "id": "49e27669",
   "metadata": {},
   "source": [
    "<div class=\"alert alert-danger\">\n",
    "    \n",
    "<strong>SOLUTION:</strong> Yes, it seems that the level of education is positively correlated with earnings--for every 1 additional year of schooling, the annual earnings on average will increase by \\$3948.23. It helps alleviate omitted variable bias, because education is an important predicator of earnings and therefore should be included in the model. (Alternatively, one can also argue that it doesn't help alleviate omitted variable bias because the level of education may not be directly correlated with a person's height, so adding education won't bring down the coefficient of height)\n",
    "\n",
    "</div>"
   ]
  },
  {
   "cell_type": "markdown",
   "id": "19190786",
   "metadata": {},
   "source": [
    "**Question 2.6:** If we computed the RMSE for this new regression model, do you think it would be higher or lower than the RMSE we computed in 1.10? \n",
    "\n",
    "<ol type=\"A\" style=\"list-style-type: lower-alpha;\">\n",
    "    <li>Lower</li>\n",
    "    <li>Higher</li>\n",
    "    <li>It depends on the specific choice of variables </li>\n",
    "</ol>\n",
    "\n",
    "Assign a letter corresponding to your answer to `q2_6` below. For example, `q2_6 = 'a'`.\n",
    "\n",
    "```\n",
    "BEGIN QUESTION\n",
    "name: q2_6\n",
    "points: \n",
    "    - 0\n",
    "    - 1\n",
    "```"
   ]
  },
  {
   "cell_type": "code",
   "execution_count": 41,
   "id": "0307295a",
   "metadata": {},
   "outputs": [],
   "source": [
    "q2_6 = 'a' # SOLUTION"
   ]
  },
  {
   "cell_type": "code",
   "execution_count": 42,
   "id": "b90a869a",
   "metadata": {},
   "outputs": [
    {
     "data": {
      "text/plain": [
       "True"
      ]
     },
     "execution_count": 42,
     "metadata": {},
     "output_type": "execute_result"
    }
   ],
   "source": [
    "## TEST ##\n",
    "q2_6 in ['a', 'b', 'c']"
   ]
  },
  {
   "cell_type": "code",
   "execution_count": 43,
   "id": "afbd8104",
   "metadata": {},
   "outputs": [
    {
     "data": {
      "text/plain": [
       "True"
      ]
     },
     "execution_count": 43,
     "metadata": {},
     "output_type": "execute_result"
    }
   ],
   "source": [
    "## HIDDEN TEST ##\n",
    "q2_6 == 'a'"
   ]
  },
  {
   "cell_type": "markdown",
   "id": "7879d55a",
   "metadata": {},
   "source": [
    "**Question 2.7:** Now that we've accounted for some additional confounding variables do you think it makes sense for us to infer a causal relationship between height and earnings?\n",
    "\n",
    "<ol type=\"A\" style=\"list-style-type: lower-alpha;\">\n",
    "    <li>Yes, because the coefficient for height is now highly significant. </li>\n",
    "    <li>Yes, because we have eliminated omitted variable bias by adding control variables in 2.2. </li>\n",
    "    <li>No, because there may be other omitted variables we haven't accounted for.</li>\n",
    "    <li>No, because the set of control variables added in 2.2 is a poor choice. </li>\n",
    "</ol>\n",
    "\n",
    "Assign a letter corresponding to your answer to `q2_7` below. For example, `q2_7 = 'a'`.\n",
    "\n",
    "```\n",
    "BEGIN QUESTION\n",
    "name: q2_7\n",
    "points: \n",
    "    - 0\n",
    "    - 1\n",
    "```"
   ]
  },
  {
   "cell_type": "code",
   "execution_count": 44,
   "id": "0392975c",
   "metadata": {},
   "outputs": [],
   "source": [
    "q2_7 = 'c' # SOLUTION"
   ]
  },
  {
   "cell_type": "code",
   "execution_count": 45,
   "id": "2596b53a",
   "metadata": {},
   "outputs": [
    {
     "data": {
      "text/plain": [
       "True"
      ]
     },
     "execution_count": 45,
     "metadata": {},
     "output_type": "execute_result"
    }
   ],
   "source": [
    "## TEST ##\n",
    "q2_7 in ['a', 'b', 'c', 'd']"
   ]
  },
  {
   "cell_type": "code",
   "execution_count": 46,
   "id": "121e8d33",
   "metadata": {},
   "outputs": [
    {
     "data": {
      "text/plain": [
       "True"
      ]
     },
     "execution_count": 46,
     "metadata": {},
     "output_type": "execute_result"
    }
   ],
   "source": [
    "## HIDDEN TEST ##\n",
    "q2_7 == 'c'"
   ]
  },
  {
   "cell_type": "markdown",
   "id": "54d61e6d",
   "metadata": {},
   "source": [
    "**Question 2.8:** Using regression results in 2.2, now let’s try to predict a person’s earnings based on their characteristics.\n",
    "\n",
    "What would the predicted earnings of a 35-year-old woman with a Bachelor's degree who is 64 inches tall and 124 pounds?\n",
    "\n",
    "*Hint: A person with a Bachelor's degree has completed 15 years of education.*\n",
    "\n",
    "```\n",
    "BEGIN QUESTION\n",
    "name: q2_8\n",
    "```"
   ]
  },
  {
   "cell_type": "code",
   "execution_count": 47,
   "id": "b6e3d7d5",
   "metadata": {},
   "outputs": [
    {
     "data": {
      "text/plain": [
       "49414.269967442197"
      ]
     },
     "execution_count": 47,
     "metadata": {},
     "output_type": "execute_result"
    }
   ],
   "source": [
    "\"\"\" # BEGIN PROMPT\n",
    "prediction_2_8 = ...\n",
    "\"\"\" # END PROMPT\n",
    "# BEGIN SOLUTION NO PROMPT\n",
    "prediction_2_8 = results_2_2.params[0] + (results_2_2.params[1]*64) + (results_2_2.params[2]*35) + (results_2_2.params[3]*15) + (results_2_2.params[4]*0) + (results_2_2.params[5]*124)\n",
    "# END SOLUTION\n",
    "prediction_2_8"
   ]
  },
  {
   "cell_type": "code",
   "execution_count": 48,
   "id": "0a6afaba",
   "metadata": {},
   "outputs": [
    {
     "data": {
      "text/plain": [
       "True"
      ]
     },
     "execution_count": 48,
     "metadata": {},
     "output_type": "execute_result"
    }
   ],
   "source": [
    "## TEST ##\n",
    "20000 < prediction_2_8 < 50000"
   ]
  },
  {
   "cell_type": "code",
   "execution_count": 49,
   "id": "1dbeb7e9",
   "metadata": {},
   "outputs": [
    {
     "data": {
      "text/plain": [
       "True"
      ]
     },
     "execution_count": 49,
     "metadata": {},
     "output_type": "execute_result"
    }
   ],
   "source": [
    "## HIDDEN TEST ##\n",
    "np.isclose(prediction_2_8, 49414.27)"
   ]
  },
  {
   "cell_type": "markdown",
   "id": "688281c3",
   "metadata": {},
   "source": [
    "**Question 2.9:** Say you wanted to know the relationship between gender (`sex`: a binary variable) and income (`earnings`: a continuous variable). Based on our regression results, how is gender correlated with income?\n",
    "\n",
    "*Hint*: Think about what it means when the coefficient of `sex` is 0 and 1. Also, you can try changing your input for `sex` in 2.8, and see what happens.\n",
    "\n",
    "Assuming all else equal, ...\n",
    "\n",
    "<ol type=\"A\" style=\"list-style-type: lower-alpha;\">\n",
    "    <li>On average, male earns \\$586.92 more than female. </li>\n",
    "    <li>On average, female earns \\$586.92 more than male. </li>\n",
    "    <li>For every 1 inch increase in height, male's income will increase on average \\$586.92 more than that of female. </li>\n",
    "    <li>For every 1 inch increase in height, female's income will increase on average \\$586.92 more than that of male. </li>\n",
    "</ol>\n",
    "\n",
    "Assign a letter corresponding to your answer to `q2_9` below. For example, `q2_9 = 'a'`.\n",
    "\n",
    "```\n",
    "BEGIN QUESTION\n",
    "name: q2_9\n",
    "points: \n",
    "    - 0\n",
    "    - 1\n",
    "```"
   ]
  },
  {
   "cell_type": "code",
   "execution_count": 50,
   "id": "8ca53cb0",
   "metadata": {},
   "outputs": [],
   "source": [
    "q2_9 = 'a' # SOLUTION"
   ]
  },
  {
   "cell_type": "code",
   "execution_count": 51,
   "id": "06e0fe82",
   "metadata": {},
   "outputs": [
    {
     "data": {
      "text/plain": [
       "True"
      ]
     },
     "execution_count": 51,
     "metadata": {},
     "output_type": "execute_result"
    }
   ],
   "source": [
    "## TEST ##\n",
    "q2_9 in ['a', 'b', 'c', 'd']"
   ]
  },
  {
   "cell_type": "code",
   "execution_count": 52,
   "id": "91005ea3",
   "metadata": {},
   "outputs": [
    {
     "data": {
      "text/plain": [
       "True"
      ]
     },
     "execution_count": 52,
     "metadata": {},
     "output_type": "execute_result"
    }
   ],
   "source": [
    "## HIDDEN TEST ##\n",
    "q2_9 == 'a'"
   ]
  },
  {
   "cell_type": "markdown",
   "id": "60c26d8c",
   "metadata": {},
   "source": [
    "## Part 3: Reading Econometrics Tables"
   ]
  },
  {
   "cell_type": "markdown",
   "id": "c87579c0",
   "metadata": {},
   "source": [
    "Researchers tend to run multiple regression models which they summarize in econometrics tables.\n",
    "\n",
    "Below is a table taken from the paper. It shows the regression results from 2 studies on the relationship between height and earnings: the British Cohort Study (BCS) and National Child Development Study (NCDS).\n",
    "\n",
    "<img src = \"https://i.imgur.com/a2o9OPA.png\">"
   ]
  },
  {
   "cell_type": "markdown",
   "id": "17b483f4",
   "metadata": {},
   "source": [
    "<div class=\"alert alert-warning\">\n",
    "    \n",
    "Make sure to read the table (including the note at the bottom) before proceeding.\n",
    "    \n",
    "</div>"
   ]
  },
  {
   "cell_type": "markdown",
   "id": "211ea5ac",
   "metadata": {},
   "source": [
    "Note that for the questions below, **log earnings** is the dependent variable. Recall the [interpretation of the slope](https://data-88e.github.io/textbook/content/01-demand/03-log-log.html) in this case."
   ]
  },
  {
   "cell_type": "markdown",
   "id": "7e0199ee",
   "metadata": {},
   "source": [
    "**Question 3.1:** According to the table, what did the British Cohort Study (1970) find about the relationship between height at age 30, test scores ages 5 and 10, and earnings for women? Use the results with extended controls added in. Which of the followings are correct? There can be 1-4 correct answers. \n",
    "\n",
    "<ol type=\"A\" style=\"list-style-type: lower-alpha;\">\n",
    "    <li>The coefficient on height is statistically significant. </li>\n",
    "    <li>The coefficient on height means for every 1 inch increase in height at age 30, the annual earnings will on average increase by 0.002 dollars. </li>\n",
    "    <li>The coefficient on test scores is statistically significant. </li>\n",
    "    <li>The coefficient on test scores means for every 1 point increase in test scores ages 5 and 10, the annual earnings will on average increase by 19.75 dollars. </li>\n",
    "</ol>\n",
    "\n",
    "Assign an array of letters corresponding to your answer to `q3_1` below. For example, `q3_1 = make_array('a', 'b', 'c', 'd')`.\n",
    "\n",
    "```\n",
    "BEGIN QUESTION\n",
    "name: q3_1\n",
    "points: \n",
    "    - 0\n",
    "    - 0\n",
    "    - 1\n",
    "```"
   ]
  },
  {
   "cell_type": "code",
   "execution_count": 53,
   "id": "a5ceb9f8",
   "metadata": {},
   "outputs": [],
   "source": [
    "q3_1 = make_array('c') # SOLUTION"
   ]
  },
  {
   "cell_type": "code",
   "execution_count": 54,
   "id": "3cad130d",
   "metadata": {},
   "outputs": [
    {
     "data": {
      "text/plain": [
       "True"
      ]
     },
     "execution_count": 54,
     "metadata": {},
     "output_type": "execute_result"
    }
   ],
   "source": [
    "## TEST ##\n",
    "len(q3_1) > 0 "
   ]
  },
  {
   "cell_type": "code",
   "execution_count": 55,
   "id": "5477105c",
   "metadata": {},
   "outputs": [
    {
     "data": {
      "text/plain": [
       "True"
      ]
     },
     "execution_count": 55,
     "metadata": {},
     "output_type": "execute_result"
    }
   ],
   "source": [
    "## TEST ##\n",
    "np.all([x in ['a', 'b', 'c', 'd'] for x in q3_1])"
   ]
  },
  {
   "cell_type": "code",
   "execution_count": 56,
   "id": "7b69db65",
   "metadata": {},
   "outputs": [
    {
     "data": {
      "text/plain": [
       "True"
      ]
     },
     "execution_count": 56,
     "metadata": {},
     "output_type": "execute_result"
    }
   ],
   "source": [
    "## HIDDEN TEST ##\n",
    "len(q3_1) == 1 and q3_1[0] == 'c'  # b and d are incorrect because the dependent variable is *log* annual earnings"
   ]
  },
  {
   "cell_type": "markdown",
   "id": "5b05dec3",
   "metadata": {},
   "source": [
    "**Question 3.2:** Now look at the results of the British Cohort Study for men. There are 3 coefficients reported for height at age 30. Give a brief interpretation of each of these coefficients (including the units). In your explanation, talk about what is causing the differences among these coefficients (hint: look at the *Test scores* and *Extended controls* rows).\n",
    "\n",
    "Note: Assume height is measured in inches for this study.\n",
    "\n",
    "```\n",
    "BEGIN QUESTION\n",
    "name: q3_2\n",
    "manual: true\n",
    "```"
   ]
  },
  {
   "cell_type": "markdown",
   "id": "3cc3499f",
   "metadata": {},
   "source": [
    "<div class=\"alert alert-danger\">\n",
    "    \n",
    "<strong>SOLUTION:</strong> Each coefficient: % change in **annual** earnings per 1 inch change in height (as the dependent variable is log earnings) for 30-year-old men. For the first coefficient, they are not accounting for test scores or have extended controls. For the second coefficient, they are accounting for test scores but don't have extended controls. For the third coefficient, they are accounting for test scores + have extended controls. This is what is causing the difference.\n",
    "\n",
    "</div>"
   ]
  },
  {
   "cell_type": "markdown",
   "id": "fc5968e8",
   "metadata": {},
   "source": [
    "## Conclusion"
   ]
  },
  {
   "cell_type": "markdown",
   "id": "bdd0f319",
   "metadata": {},
   "source": [
    "This brings us to the end of project 4! You've learned some key econometrics skills such as running regressions and reading econometrics tables. You've also developed an intuition for ordinary linear regression, omitted variable bias and regression with dummy variables.\n",
    "\n",
    "Also, we didn't cover a large part of Case and Paxson's [fascinating study](https://www.nber.org/system/files/working_papers/w12466/w12466.pdf) so if you're interested in how they explain the positive association between height and earnings, we recommend giving the paper a read!\n",
    "\n",
    "Congratulations on finishing your final DATA 88E project!"
   ]
  },
  {
   "cell_type": "markdown",
   "id": "c3b9b0fe",
   "metadata": {},
   "source": [
    "---"
   ]
  }
 ],
 "metadata": {
  "kernelspec": {
   "display_name": "Python 3 (ipykernel)",
   "language": "python",
   "name": "python3"
  },
  "language_info": {
   "codemirror_mode": {
    "name": "ipython",
    "version": 3
   },
   "file_extension": ".py",
   "mimetype": "text/x-python",
   "name": "python",
   "nbconvert_exporter": "python",
   "pygments_lexer": "ipython3",
   "version": "3.10.8"
  }
 },
 "nbformat": 4,
 "nbformat_minor": 5
}
